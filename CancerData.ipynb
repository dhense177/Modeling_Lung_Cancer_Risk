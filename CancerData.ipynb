{
 "cells": [
  {
   "cell_type": "code",
   "execution_count": 2,
   "metadata": {
    "collapsed": true
   },
   "outputs": [],
   "source": [
    "import pandas as pd\n",
    "import numpy as np\n",
    "import matplotlib.pyplot as plt\n",
    "import re\n",
    "%matplotlib inline"
   ]
  },
  {
   "cell_type": "code",
   "execution_count": 3,
   "metadata": {
    "collapsed": true
   },
   "outputs": [],
   "source": [
    "df = pd.read_csv('/home/davidhenslovitz/Galvanize/ZNAHealth/CSV/LYMYLEUK.csv', converters={'State-county recode': lambda x: str(x), 'CS Schema v0204+': lambda x: str(x)})"
   ]
  },
  {
   "cell_type": "code",
   "execution_count": 4,
   "metadata": {},
   "outputs": [
    {
     "data": {
      "text/html": [
       "<div>\n",
       "<style>\n",
       "    .dataframe thead tr:only-child th {\n",
       "        text-align: right;\n",
       "    }\n",
       "\n",
       "    .dataframe thead th {\n",
       "        text-align: left;\n",
       "    }\n",
       "\n",
       "    .dataframe tbody tr th {\n",
       "        vertical-align: top;\n",
       "    }\n",
       "</style>\n",
       "<table border=\"1\" class=\"dataframe\">\n",
       "  <thead>\n",
       "    <tr style=\"text-align: right;\">\n",
       "      <th></th>\n",
       "      <th>Patient ID number</th>\n",
       "      <th>Registry ID</th>\n",
       "      <th>Marital Status at DX</th>\n",
       "      <th>Race/Ethnicity</th>\n",
       "      <th>NHIA Derived Hispanic Origin</th>\n",
       "      <th>Sex</th>\n",
       "      <th>Age at diagnosis</th>\n",
       "      <th>Year of Birth</th>\n",
       "      <th>Sequence Number—Central</th>\n",
       "      <th>Month of diagnosis</th>\n",
       "      <th>...</th>\n",
       "      <th>Lymphomas: Ann Arbor Staging (1983+)</th>\n",
       "      <th>CS Mets at Dx-Bone</th>\n",
       "      <th>CS Mets at Dx-Brain</th>\n",
       "      <th>CS Mets at Dx-Liver</th>\n",
       "      <th>CS Mets at Dx-Lung</th>\n",
       "      <th>T value - based on AJCC 3rd (1988-2003)</th>\n",
       "      <th>N value - based on AJCC 3rd (1988-2003)</th>\n",
       "      <th>M value - based on AJCC 3rd (1988-2003)</th>\n",
       "      <th>Total Number of In Situ/malignant Tumors for Patient</th>\n",
       "      <th>Total Number of Benign/Borderline Tumors for Patient</th>\n",
       "    </tr>\n",
       "  </thead>\n",
       "  <tbody>\n",
       "    <tr>\n",
       "      <th>0</th>\n",
       "      <td>7000008</td>\n",
       "      <td>1502</td>\n",
       "      <td>2</td>\n",
       "      <td>1</td>\n",
       "      <td>0</td>\n",
       "      <td>1</td>\n",
       "      <td>80</td>\n",
       "      <td>1908</td>\n",
       "      <td>2</td>\n",
       "      <td>7</td>\n",
       "      <td>...</td>\n",
       "      <td>4</td>\n",
       "      <td></td>\n",
       "      <td></td>\n",
       "      <td></td>\n",
       "      <td></td>\n",
       "      <td>88</td>\n",
       "      <td>88</td>\n",
       "      <td>88</td>\n",
       "      <td>2</td>\n",
       "      <td>0</td>\n",
       "    </tr>\n",
       "    <tr>\n",
       "      <th>1</th>\n",
       "      <td>7000014</td>\n",
       "      <td>1502</td>\n",
       "      <td>1</td>\n",
       "      <td>1</td>\n",
       "      <td>0</td>\n",
       "      <td>1</td>\n",
       "      <td>85</td>\n",
       "      <td>1897</td>\n",
       "      <td>2</td>\n",
       "      <td>6</td>\n",
       "      <td>...</td>\n",
       "      <td>1</td>\n",
       "      <td></td>\n",
       "      <td></td>\n",
       "      <td></td>\n",
       "      <td></td>\n",
       "      <td></td>\n",
       "      <td></td>\n",
       "      <td></td>\n",
       "      <td>2</td>\n",
       "      <td>0</td>\n",
       "    </tr>\n",
       "    <tr>\n",
       "      <th>2</th>\n",
       "      <td>7000107</td>\n",
       "      <td>1502</td>\n",
       "      <td>5</td>\n",
       "      <td>1</td>\n",
       "      <td>0</td>\n",
       "      <td>2</td>\n",
       "      <td>86</td>\n",
       "      <td>1899</td>\n",
       "      <td>2</td>\n",
       "      <td>11</td>\n",
       "      <td>...</td>\n",
       "      <td>4</td>\n",
       "      <td></td>\n",
       "      <td></td>\n",
       "      <td></td>\n",
       "      <td></td>\n",
       "      <td></td>\n",
       "      <td></td>\n",
       "      <td></td>\n",
       "      <td>2</td>\n",
       "      <td>0</td>\n",
       "    </tr>\n",
       "    <tr>\n",
       "      <th>3</th>\n",
       "      <td>7000120</td>\n",
       "      <td>1502</td>\n",
       "      <td>2</td>\n",
       "      <td>1</td>\n",
       "      <td>0</td>\n",
       "      <td>1</td>\n",
       "      <td>75</td>\n",
       "      <td>1902</td>\n",
       "      <td>0</td>\n",
       "      <td>4</td>\n",
       "      <td>...</td>\n",
       "      <td>8</td>\n",
       "      <td></td>\n",
       "      <td></td>\n",
       "      <td></td>\n",
       "      <td></td>\n",
       "      <td></td>\n",
       "      <td></td>\n",
       "      <td></td>\n",
       "      <td>1</td>\n",
       "      <td>0</td>\n",
       "    </tr>\n",
       "    <tr>\n",
       "      <th>4</th>\n",
       "      <td>7000127</td>\n",
       "      <td>1502</td>\n",
       "      <td>5</td>\n",
       "      <td>1</td>\n",
       "      <td>0</td>\n",
       "      <td>2</td>\n",
       "      <td>77</td>\n",
       "      <td>1921</td>\n",
       "      <td>2</td>\n",
       "      <td>3</td>\n",
       "      <td>...</td>\n",
       "      <td>1</td>\n",
       "      <td></td>\n",
       "      <td></td>\n",
       "      <td></td>\n",
       "      <td></td>\n",
       "      <td>88</td>\n",
       "      <td>88</td>\n",
       "      <td>88</td>\n",
       "      <td>2</td>\n",
       "      <td>0</td>\n",
       "    </tr>\n",
       "  </tbody>\n",
       "</table>\n",
       "<p>5 rows × 132 columns</p>\n",
       "</div>"
      ],
      "text/plain": [
       "   Patient ID number  Registry ID  Marital Status at DX  Race/Ethnicity  \\\n",
       "0            7000008         1502                     2               1   \n",
       "1            7000014         1502                     1               1   \n",
       "2            7000107         1502                     5               1   \n",
       "3            7000120         1502                     2               1   \n",
       "4            7000127         1502                     5               1   \n",
       "\n",
       "   NHIA Derived Hispanic Origin  Sex  Age at diagnosis Year of Birth  \\\n",
       "0                             0    1                80          1908   \n",
       "1                             0    1                85          1897   \n",
       "2                             0    2                86          1899   \n",
       "3                             0    1                75          1902   \n",
       "4                             0    2                77          1921   \n",
       "\n",
       "   Sequence Number—Central  Month of diagnosis  \\\n",
       "0                        2                   7   \n",
       "1                        2                   6   \n",
       "2                        2                  11   \n",
       "3                        0                   4   \n",
       "4                        2                   3   \n",
       "\n",
       "                           ...                           \\\n",
       "0                          ...                            \n",
       "1                          ...                            \n",
       "2                          ...                            \n",
       "3                          ...                            \n",
       "4                          ...                            \n",
       "\n",
       "   Lymphomas: Ann Arbor Staging (1983+) CS Mets at Dx-Bone  \\\n",
       "0                                     4                      \n",
       "1                                     1                      \n",
       "2                                     4                      \n",
       "3                                     8                      \n",
       "4                                     1                      \n",
       "\n",
       "   CS Mets at Dx-Brain  CS Mets at Dx-Liver  CS Mets at Dx-Lung  \\\n",
       "0                                                                 \n",
       "1                                                                 \n",
       "2                                                                 \n",
       "3                                                                 \n",
       "4                                                                 \n",
       "\n",
       "   T value - based on AJCC 3rd (1988-2003)  \\\n",
       "0                                       88   \n",
       "1                                            \n",
       "2                                            \n",
       "3                                            \n",
       "4                                       88   \n",
       "\n",
       "   N value - based on AJCC 3rd (1988-2003)  \\\n",
       "0                                       88   \n",
       "1                                            \n",
       "2                                            \n",
       "3                                            \n",
       "4                                       88   \n",
       "\n",
       "   M value - based on AJCC 3rd (1988-2003)  \\\n",
       "0                                       88   \n",
       "1                                            \n",
       "2                                            \n",
       "3                                            \n",
       "4                                       88   \n",
       "\n",
       "   Total Number of In Situ/malignant Tumors for Patient  \\\n",
       "0                                                  2      \n",
       "1                                                  2      \n",
       "2                                                  2      \n",
       "3                                                  1      \n",
       "4                                                  2      \n",
       "\n",
       "   Total Number of Benign/Borderline Tumors for Patient  \n",
       "0                                                  0     \n",
       "1                                                  0     \n",
       "2                                                  0     \n",
       "3                                                  0     \n",
       "4                                                  0     \n",
       "\n",
       "[5 rows x 132 columns]"
      ]
     },
     "execution_count": 4,
     "metadata": {},
     "output_type": "execute_result"
    }
   ],
   "source": [
    "df.head()"
   ]
  },
  {
   "cell_type": "code",
   "execution_count": 5,
   "metadata": {
    "collapsed": true
   },
   "outputs": [],
   "source": [
    "df = df.replace(r'\\s+', np.nan, regex=True)"
   ]
  },
  {
   "cell_type": "code",
   "execution_count": 6,
   "metadata": {},
   "outputs": [
    {
     "data": {
      "text/plain": [
       "72"
      ]
     },
     "execution_count": 6,
     "metadata": {},
     "output_type": "execute_result"
    }
   ],
   "source": [
    "len(df.columns[df.isnull().sum()/len(df) > 0.25])"
   ]
  },
  {
   "cell_type": "code",
   "execution_count": 7,
   "metadata": {
    "collapsed": true
   },
   "outputs": [],
   "source": [
    "df_new = pd.DataFrame()"
   ]
  },
  {
   "cell_type": "code",
   "execution_count": 8,
   "metadata": {
    "collapsed": true
   },
   "outputs": [],
   "source": [
    "df[\"state\"] = df[\"State-county recode\"].str[0:2]"
   ]
  },
  {
   "cell_type": "code",
   "execution_count": 9,
   "metadata": {
    "collapsed": true
   },
   "outputs": [],
   "source": [
    "df[\"county\"] = df[\"State-county recode\"].str[2:5]"
   ]
  },
  {
   "cell_type": "code",
   "execution_count": 10,
   "metadata": {
    "collapsed": true
   },
   "outputs": [],
   "source": [
    "df_new[\"state\"] = df[\"State-county recode\"].str[0:2]"
   ]
  },
  {
   "cell_type": "code",
   "execution_count": 11,
   "metadata": {
    "collapsed": true
   },
   "outputs": [],
   "source": [
    "df_new[\"county\"] = df[\"State-county recode\"].str[2:5]"
   ]
  },
  {
   "cell_type": "code",
   "execution_count": 12,
   "metadata": {},
   "outputs": [
    {
     "data": {
      "text/plain": [
       "state     0\n",
       "county    0\n",
       "dtype: int64"
      ]
     },
     "execution_count": 12,
     "metadata": {},
     "output_type": "execute_result"
    }
   ],
   "source": [
    "df_new.isnull().sum()"
   ]
  },
  {
   "cell_type": "code",
   "execution_count": 13,
   "metadata": {
    "collapsed": true
   },
   "outputs": [],
   "source": [
    "df_new[\"cancer_type\"] = df['CS Schema v0204+']\n",
    "df_new['year_of_diagnosis'] = df['Year of diagnosis']"
   ]
  },
  {
   "cell_type": "code",
   "execution_count": 22,
   "metadata": {},
   "outputs": [
    {
     "data": {
      "text/plain": [
       "cancer_type\n",
       "064    200372\n",
       "046    131866\n",
       "105     56789\n",
       "104      5259\n",
       "065      2195\n",
       "048         4\n",
       "Name: cancer_type, dtype: int64"
      ]
     },
     "execution_count": 22,
     "metadata": {},
     "output_type": "execute_result"
    }
   ],
   "source": [
    "df_new.groupby('cancer_type')['cancer_type'].count().sort_values(ascending=False)"
   ]
  },
  {
   "cell_type": "code",
   "execution_count": 14,
   "metadata": {},
   "outputs": [
    {
     "data": {
      "text/plain": [
       "state  cancer_type\n",
       "06     064            32792\n",
       "26     064            32648\n",
       "09     064            31225\n",
       "53     064            31051\n",
       "19     064            27306\n",
       "26     046            23075\n",
       "19     046            20377\n",
       "53     046            20054\n",
       "09     046            19335\n",
       "06     046            18950\n",
       "13     064            15350\n",
       "49     064            12177\n",
       "26     105            10879\n",
       "35     064            10322\n",
       "13     046             9069\n",
       "06     105             8696\n",
       "49     046             8324\n",
       "09     105             8276\n",
       "53     105             8164\n",
       "35     046             7936\n",
       "19     105             7647\n",
       "15     064             7501\n",
       "13     105             4943\n",
       "15     046             4746\n",
       "49     105             3122\n",
       "35     105             3098\n",
       "15     105             1964\n",
       "06     104             1473\n",
       "26     104              971\n",
       "53     104              648\n",
       "09     104              597\n",
       "13     104              445\n",
       "19     104              444\n",
       "26     065              388\n",
       "06     065              385\n",
       "09     065              351\n",
       "53     065              330\n",
       "49     104              291\n",
       "19     065              259\n",
       "35     104              251\n",
       "13     065              156\n",
       "15     104              139\n",
       "49     065              110\n",
       "15     065              110\n",
       "35     065              106\n",
       "09     048                1\n",
       "13     048                1\n",
       "15     048                1\n",
       "19     048                1\n",
       "Name: cancer_type, dtype: int64"
      ]
     },
     "execution_count": 14,
     "metadata": {},
     "output_type": "execute_result"
    }
   ],
   "source": [
    "df_state = df_new.groupby(['state', 'cancer_type'])['cancer_type'].count().sort_values(ascending=False)\n",
    "df_state"
   ]
  },
  {
   "cell_type": "code",
   "execution_count": 15,
   "metadata": {},
   "outputs": [
    {
     "data": {
      "text/plain": [
       "state  county  cancer_type\n",
       "26     163     064            15653\n",
       "53     033     064            13478\n",
       "26     163     046            11618\n",
       "       125     064            10198\n",
       "06     001     064             9575\n",
       "       075     064             8532\n",
       "53     033     046             8148\n",
       "09     001     064             8127\n",
       "       003     064             8074\n",
       "       009     064             7944\n",
       "26     125     046             6843\n",
       "       099     064             6797\n",
       "06     013     064             6738\n",
       "26     163     105             6347\n",
       "06     001     046             5874\n",
       "       081     064             5705\n",
       "09     003     046             5195\n",
       "53     053     064             4942\n",
       "49     035     064             4928\n",
       "09     001     046             4922\n",
       "Name: cancer_type, dtype: int64"
      ]
     },
     "execution_count": 15,
     "metadata": {},
     "output_type": "execute_result"
    }
   ],
   "source": [
    "df_county = df_new.groupby(['state','county', 'cancer_type'])['cancer_type'].count().sort_values(ascending=False)\n",
    "df_county.head(20)"
   ]
  },
  {
   "cell_type": "code",
   "execution_count": 16,
   "metadata": {
    "collapsed": true
   },
   "outputs": [],
   "source": [
    "df_cali = df_new[(df_new.state=='06')&(df_new.cancer_type=='064')].groupby('year_of_diagnosis')['cancer_type'].count()"
   ]
  },
  {
   "cell_type": "code",
   "execution_count": 18,
   "metadata": {},
   "outputs": [
    {
     "data": {
      "text/plain": [
       "year_of_diagnosis\n",
       "1973     395\n",
       "1974     411\n",
       "1975     441\n",
       "1976     420\n",
       "1977     415\n",
       "1978     446\n",
       "1979     477\n",
       "1980     459\n",
       "1981     487\n",
       "1982     509\n",
       "1983     511\n",
       "1984     588\n",
       "1985     642\n",
       "1986     691\n",
       "1987     766\n",
       "1988     789\n",
       "1989     845\n",
       "1990     887\n",
       "1991     899\n",
       "1992     874\n",
       "1993     840\n",
       "1994     922\n",
       "1995     975\n",
       "1996     925\n",
       "1997     881\n",
       "1998     825\n",
       "1999     877\n",
       "2000     919\n",
       "2001     953\n",
       "2002     904\n",
       "2003     888\n",
       "2004     965\n",
       "2005     929\n",
       "2006     894\n",
       "2007     978\n",
       "2008    1014\n",
       "2009     984\n",
       "2010    1083\n",
       "2011     991\n",
       "2012     995\n",
       "2013     986\n",
       "2014    1112\n",
       "Name: cancer_type, dtype: int64"
      ]
     },
     "execution_count": 18,
     "metadata": {},
     "output_type": "execute_result"
    }
   ],
   "source": [
    "df_cali"
   ]
  },
  {
   "cell_type": "code",
   "execution_count": null,
   "metadata": {
    "collapsed": true
   },
   "outputs": [],
   "source": []
  },
  {
   "cell_type": "code",
   "execution_count": null,
   "metadata": {
    "collapsed": true
   },
   "outputs": [],
   "source": []
  },
  {
   "cell_type": "code",
   "execution_count": null,
   "metadata": {
    "collapsed": true
   },
   "outputs": [],
   "source": []
  },
  {
   "cell_type": "code",
   "execution_count": 84,
   "metadata": {
    "collapsed": true
   },
   "outputs": [],
   "source": [
    "df_wayne = df_new[(df_new.state=='26')&(df_new.cancer_type=='063')].groupby('year_of_diagnosis')['cancer_type'].count()"
   ]
  },
  {
   "cell_type": "code",
   "execution_count": 85,
   "metadata": {},
   "outputs": [
    {
     "data": {
      "text/plain": [
       "year_of_diagnosis\n",
       "1973    1831\n",
       "1974    1878\n",
       "1975    1990\n",
       "1976    2135\n",
       "1977    2229\n",
       "1978    2317\n",
       "1979    2280\n",
       "1980    2598\n",
       "1981    2665\n",
       "1982    2768\n",
       "1983    2828\n",
       "1984    2884\n",
       "1985    2885\n",
       "1986    2927\n",
       "1987    2945\n",
       "1988    3027\n",
       "1989    3062\n",
       "1990    3062\n",
       "1991    3288\n",
       "1992    3205\n",
       "1993    3273\n",
       "1994    3289\n",
       "1995    3228\n",
       "1996    3172\n",
       "1997    3206\n",
       "1998    3329\n",
       "1999    3203\n",
       "2000    3110\n",
       "2001    3268\n",
       "2002    3208\n",
       "2003    3377\n",
       "2004    3217\n",
       "2005    3335\n",
       "2006    3316\n",
       "2007    3379\n",
       "2008    3414\n",
       "2009    3367\n",
       "2010    3332\n",
       "2011    3265\n",
       "2012    3160\n",
       "2013    3215\n",
       "2014    3286\n",
       "Name: cancer_type, dtype: int64"
      ]
     },
     "execution_count": 85,
     "metadata": {},
     "output_type": "execute_result"
    }
   ],
   "source": [
    "df_wayne"
   ]
  },
  {
   "cell_type": "code",
   "execution_count": 88,
   "metadata": {},
   "outputs": [
    {
     "data": {
      "text/plain": [
       "[<matplotlib.lines.Line2D at 0x7fabf2d7be80>]"
      ]
     },
     "execution_count": 88,
     "metadata": {},
     "output_type": "execute_result"
    },
    {
     "data": {
      "image/png": "[encoded data removed]",
      "text/plain": [
       "<matplotlib.figure.Figure at 0x7fabf33af470>"
      ]
     },
     "metadata": {},
     "output_type": "display_data"
    }
   ],
   "source": [
    "plt.plot(df_wayne.index, df_wayne.values)"
   ]
  },
  {
   "cell_type": "code",
   "execution_count": 3,
   "metadata": {
    "collapsed": true
   },
   "outputs": [],
   "source": [
    "df_air = pd.read_csv('Air_Quality_Measures_on_the_National_Environmental_Health_Tracking_Network.csv')"
   ]
  },
  {
   "cell_type": "code",
   "execution_count": 4,
   "metadata": {},
   "outputs": [
    {
     "data": {
      "text/html": [
       "<div>\n",
       "<style scoped>\n",
       "    .dataframe tbody tr th:only-of-type {\n",
       "        vertical-align: middle;\n",
       "    }\n",
       "\n",
       "    .dataframe tbody tr th {\n",
       "        vertical-align: top;\n",
       "    }\n",
       "\n",
       "    .dataframe thead th {\n",
       "        text-align: right;\n",
       "    }\n",
       "</style>\n",
       "<table border=\"1\" class=\"dataframe\">\n",
       "  <thead>\n",
       "    <tr style=\"text-align: right;\">\n",
       "      <th></th>\n",
       "      <th>MeasureId</th>\n",
       "      <th>MeasureName</th>\n",
       "      <th>MeasureType</th>\n",
       "      <th>StratificationLevel</th>\n",
       "      <th>StateFips</th>\n",
       "      <th>StateName</th>\n",
       "      <th>CountyFips</th>\n",
       "      <th>CountyName</th>\n",
       "      <th>ReportYear</th>\n",
       "      <th>Value</th>\n",
       "      <th>Unit</th>\n",
       "      <th>UnitName</th>\n",
       "      <th>DataOrigin</th>\n",
       "      <th>MonitorOnly</th>\n",
       "    </tr>\n",
       "  </thead>\n",
       "  <tbody>\n",
       "    <tr>\n",
       "      <th>0</th>\n",
       "      <td>83</td>\n",
       "      <td>Number of days with maximum 8-hour average ozo...</td>\n",
       "      <td>Counts</td>\n",
       "      <td>State x County</td>\n",
       "      <td>1</td>\n",
       "      <td>Alabama</td>\n",
       "      <td>1051</td>\n",
       "      <td>Elmore</td>\n",
       "      <td>1999</td>\n",
       "      <td>5.0</td>\n",
       "      <td>No Units</td>\n",
       "      <td>No Units</td>\n",
       "      <td>Monitor Only</td>\n",
       "      <td>1</td>\n",
       "    </tr>\n",
       "    <tr>\n",
       "      <th>1</th>\n",
       "      <td>83</td>\n",
       "      <td>Number of days with maximum 8-hour average ozo...</td>\n",
       "      <td>Counts</td>\n",
       "      <td>State x County</td>\n",
       "      <td>1</td>\n",
       "      <td>Alabama</td>\n",
       "      <td>1073</td>\n",
       "      <td>Jefferson</td>\n",
       "      <td>1999</td>\n",
       "      <td>39.0</td>\n",
       "      <td>No Units</td>\n",
       "      <td>No Units</td>\n",
       "      <td>Monitor Only</td>\n",
       "      <td>1</td>\n",
       "    </tr>\n",
       "    <tr>\n",
       "      <th>2</th>\n",
       "      <td>83</td>\n",
       "      <td>Number of days with maximum 8-hour average ozo...</td>\n",
       "      <td>Counts</td>\n",
       "      <td>State x County</td>\n",
       "      <td>1</td>\n",
       "      <td>Alabama</td>\n",
       "      <td>1079</td>\n",
       "      <td>Lawrence</td>\n",
       "      <td>1999</td>\n",
       "      <td>28.0</td>\n",
       "      <td>No Units</td>\n",
       "      <td>No Units</td>\n",
       "      <td>Monitor Only</td>\n",
       "      <td>1</td>\n",
       "    </tr>\n",
       "    <tr>\n",
       "      <th>3</th>\n",
       "      <td>83</td>\n",
       "      <td>Number of days with maximum 8-hour average ozo...</td>\n",
       "      <td>Counts</td>\n",
       "      <td>State x County</td>\n",
       "      <td>1</td>\n",
       "      <td>Alabama</td>\n",
       "      <td>1089</td>\n",
       "      <td>Madison</td>\n",
       "      <td>1999</td>\n",
       "      <td>31.0</td>\n",
       "      <td>No Units</td>\n",
       "      <td>No Units</td>\n",
       "      <td>Monitor Only</td>\n",
       "      <td>1</td>\n",
       "    </tr>\n",
       "    <tr>\n",
       "      <th>4</th>\n",
       "      <td>83</td>\n",
       "      <td>Number of days with maximum 8-hour average ozo...</td>\n",
       "      <td>Counts</td>\n",
       "      <td>State x County</td>\n",
       "      <td>1</td>\n",
       "      <td>Alabama</td>\n",
       "      <td>1097</td>\n",
       "      <td>Mobile</td>\n",
       "      <td>1999</td>\n",
       "      <td>32.0</td>\n",
       "      <td>No Units</td>\n",
       "      <td>No Units</td>\n",
       "      <td>Monitor Only</td>\n",
       "      <td>1</td>\n",
       "    </tr>\n",
       "  </tbody>\n",
       "</table>\n",
       "</div>"
      ],
      "text/plain": [
       "   MeasureId                                        MeasureName MeasureType  \\\n",
       "0         83  Number of days with maximum 8-hour average ozo...      Counts   \n",
       "1         83  Number of days with maximum 8-hour average ozo...      Counts   \n",
       "2         83  Number of days with maximum 8-hour average ozo...      Counts   \n",
       "3         83  Number of days with maximum 8-hour average ozo...      Counts   \n",
       "4         83  Number of days with maximum 8-hour average ozo...      Counts   \n",
       "\n",
       "  StratificationLevel  StateFips StateName  CountyFips CountyName  ReportYear  \\\n",
       "0      State x County          1   Alabama        1051     Elmore        1999   \n",
       "1      State x County          1   Alabama        1073  Jefferson        1999   \n",
       "2      State x County          1   Alabama        1079   Lawrence        1999   \n",
       "3      State x County          1   Alabama        1089    Madison        1999   \n",
       "4      State x County          1   Alabama        1097     Mobile        1999   \n",
       "\n",
       "   Value      Unit  UnitName    DataOrigin  MonitorOnly  \n",
       "0    5.0  No Units  No Units  Monitor Only            1  \n",
       "1   39.0  No Units  No Units  Monitor Only            1  \n",
       "2   28.0  No Units  No Units  Monitor Only            1  \n",
       "3   31.0  No Units  No Units  Monitor Only            1  \n",
       "4   32.0  No Units  No Units  Monitor Only            1  "
      ]
     },
     "execution_count": 4,
     "metadata": {},
     "output_type": "execute_result"
    }
   ],
   "source": [
    "df_air.head()"
   ]
  },
  {
   "cell_type": "code",
   "execution_count": 5,
   "metadata": {},
   "outputs": [
    {
     "data": {
      "text/plain": [
       "Number of person-days with maximum 8-hour average ozone concentration over the National Ambient Air Quality Standard (monitor and modeled data)               34199\n",
       "Number of days with maximum 8-hour average ozone concentration over the National Ambient Air Quality Standard (monitor and modeled data)                      34199\n",
       "Percent of days with PM2.5 levels over the National Ambient Air Quality Standard (monitor and modeled data)                                                   34199\n",
       "Annual average ambient concentrations of PM 2.5 in micrograms per cubic meter, based on seasonal averages and daily measurement (monitor and modeled data)    34199\n",
       "Number of person-days with PM2.5 over the National Ambient Air Quality Standard (monitor and modeled data)                                                    34199\n",
       "Number of days with maximum 8-hour average ozone concentration over the National Ambient Air Quality Standard                                                 10341\n",
       "Number of person-days with maximum 8-hour average ozone concentration over the National Ambient Air Quality Standard                                          10341\n",
       "Person-days with PM2.5 over the National Ambient Air Quality Standard                                                                                          9268\n",
       "Percent of days with PM2.5 levels over the National Ambient Air Quality Standard (NAAQS)                                                                       9268\n",
       "Annual average ambient concentrations of PM2.5 in micrograms per cubic meter (based on seasonal averages and daily measurement)                                8422\n",
       "Name: MeasureName, dtype: int64"
      ]
     },
     "execution_count": 5,
     "metadata": {},
     "output_type": "execute_result"
    }
   ],
   "source": [
    "df_air.MeasureName.value_counts()"
   ]
  },
  {
   "cell_type": "code",
   "execution_count": 9,
   "metadata": {
    "collapsed": true
   },
   "outputs": [],
   "source": [
    "df_pm2 = df_air[df_air.MeasureName=='Annual average ambient concentrations of PM 2.5 in micrograms per cubic meter, based on seasonal averages and daily measurement (monitor and modeled data)']\n",
    "df_ozone = df_air[df_air.MeasureName=='Number of days with maximum 8-hour average ozone concentration over the National Ambient Air Quality Standard (monitor and modeled data)']\n",
    "df_ozone_p = df_air[df_air.MeasureName=='Number of person-days with maximum 8-hour average ozone concentration over the National Ambient Air Quality Standard (monitor and modeled data)']"
   ]
  },
  {
   "cell_type": "code",
   "execution_count": 10,
   "metadata": {
    "collapsed": true
   },
   "outputs": [],
   "source": [
    "df_pm2_group = df_pm2.groupby(['CountyName'])['Value'].mean().sort_values(ascending=False)"
   ]
  },
  {
   "cell_type": "code",
   "execution_count": 17,
   "metadata": {},
   "outputs": [
    {
     "data": {
      "text/html": [
       "<div>\n",
       "<style scoped>\n",
       "    .dataframe tbody tr th:only-of-type {\n",
       "        vertical-align: middle;\n",
       "    }\n",
       "\n",
       "    .dataframe tbody tr th {\n",
       "        vertical-align: top;\n",
       "    }\n",
       "\n",
       "    .dataframe thead th {\n",
       "        text-align: right;\n",
       "    }\n",
       "</style>\n",
       "<table border=\"1\" class=\"dataframe\">\n",
       "  <thead>\n",
       "    <tr style=\"text-align: right;\">\n",
       "      <th></th>\n",
       "      <th>MeasureId</th>\n",
       "      <th>MeasureName</th>\n",
       "      <th>MeasureType</th>\n",
       "      <th>StratificationLevel</th>\n",
       "      <th>StateFips</th>\n",
       "      <th>StateName</th>\n",
       "      <th>CountyFips</th>\n",
       "      <th>CountyName</th>\n",
       "      <th>ReportYear</th>\n",
       "      <th>Value</th>\n",
       "      <th>Unit</th>\n",
       "      <th>UnitName</th>\n",
       "      <th>DataOrigin</th>\n",
       "      <th>MonitorOnly</th>\n",
       "    </tr>\n",
       "  </thead>\n",
       "  <tbody>\n",
       "    <tr>\n",
       "      <th>184435</th>\n",
       "      <td>296</td>\n",
       "      <td>Annual average ambient concentrations of PM 2....</td>\n",
       "      <td>Average</td>\n",
       "      <td>State x County</td>\n",
       "      <td>1</td>\n",
       "      <td>Alabama</td>\n",
       "      <td>1001</td>\n",
       "      <td>Autauga</td>\n",
       "      <td>2001</td>\n",
       "      <td>13.186807</td>\n",
       "      <td>µg/m³</td>\n",
       "      <td>Micograms per cubic meter</td>\n",
       "      <td>Monitor &amp; Modeled</td>\n",
       "      <td>0</td>\n",
       "    </tr>\n",
       "    <tr>\n",
       "      <th>184436</th>\n",
       "      <td>296</td>\n",
       "      <td>Annual average ambient concentrations of PM 2....</td>\n",
       "      <td>Average</td>\n",
       "      <td>State x County</td>\n",
       "      <td>1</td>\n",
       "      <td>Alabama</td>\n",
       "      <td>1001</td>\n",
       "      <td>Autauga</td>\n",
       "      <td>2002</td>\n",
       "      <td>12.490668</td>\n",
       "      <td>µg/m³</td>\n",
       "      <td>Micograms per cubic meter</td>\n",
       "      <td>Monitor &amp; Modeled</td>\n",
       "      <td>0</td>\n",
       "    </tr>\n",
       "    <tr>\n",
       "      <th>184437</th>\n",
       "      <td>296</td>\n",
       "      <td>Annual average ambient concentrations of PM 2....</td>\n",
       "      <td>Average</td>\n",
       "      <td>State x County</td>\n",
       "      <td>1</td>\n",
       "      <td>Alabama</td>\n",
       "      <td>1001</td>\n",
       "      <td>Autauga</td>\n",
       "      <td>2003</td>\n",
       "      <td>12.869481</td>\n",
       "      <td>µg/m³</td>\n",
       "      <td>Micograms per cubic meter</td>\n",
       "      <td>Monitor &amp; Modeled</td>\n",
       "      <td>0</td>\n",
       "    </tr>\n",
       "    <tr>\n",
       "      <th>184438</th>\n",
       "      <td>296</td>\n",
       "      <td>Annual average ambient concentrations of PM 2....</td>\n",
       "      <td>Average</td>\n",
       "      <td>State x County</td>\n",
       "      <td>1</td>\n",
       "      <td>Alabama</td>\n",
       "      <td>1001</td>\n",
       "      <td>Autauga</td>\n",
       "      <td>2004</td>\n",
       "      <td>13.111945</td>\n",
       "      <td>µg/m³</td>\n",
       "      <td>Micograms per cubic meter</td>\n",
       "      <td>Monitor &amp; Modeled</td>\n",
       "      <td>0</td>\n",
       "    </tr>\n",
       "    <tr>\n",
       "      <th>184439</th>\n",
       "      <td>296</td>\n",
       "      <td>Annual average ambient concentrations of PM 2....</td>\n",
       "      <td>Average</td>\n",
       "      <td>State x County</td>\n",
       "      <td>1</td>\n",
       "      <td>Alabama</td>\n",
       "      <td>1001</td>\n",
       "      <td>Autauga</td>\n",
       "      <td>2005</td>\n",
       "      <td>13.543276</td>\n",
       "      <td>µg/m³</td>\n",
       "      <td>Micograms per cubic meter</td>\n",
       "      <td>Monitor &amp; Modeled</td>\n",
       "      <td>0</td>\n",
       "    </tr>\n",
       "  </tbody>\n",
       "</table>\n",
       "</div>"
      ],
      "text/plain": [
       "        MeasureId                                        MeasureName  \\\n",
       "184435        296  Annual average ambient concentrations of PM 2....   \n",
       "184436        296  Annual average ambient concentrations of PM 2....   \n",
       "184437        296  Annual average ambient concentrations of PM 2....   \n",
       "184438        296  Annual average ambient concentrations of PM 2....   \n",
       "184439        296  Annual average ambient concentrations of PM 2....   \n",
       "\n",
       "       MeasureType StratificationLevel  StateFips StateName  CountyFips  \\\n",
       "184435     Average      State x County          1   Alabama        1001   \n",
       "184436     Average      State x County          1   Alabama        1001   \n",
       "184437     Average      State x County          1   Alabama        1001   \n",
       "184438     Average      State x County          1   Alabama        1001   \n",
       "184439     Average      State x County          1   Alabama        1001   \n",
       "\n",
       "       CountyName  ReportYear      Value   Unit                   UnitName  \\\n",
       "184435    Autauga        2001  13.186807  µg/m³  Micograms per cubic meter   \n",
       "184436    Autauga        2002  12.490668  µg/m³  Micograms per cubic meter   \n",
       "184437    Autauga        2003  12.869481  µg/m³  Micograms per cubic meter   \n",
       "184438    Autauga        2004  13.111945  µg/m³  Micograms per cubic meter   \n",
       "184439    Autauga        2005  13.543276  µg/m³  Micograms per cubic meter   \n",
       "\n",
       "               DataOrigin  MonitorOnly  \n",
       "184435  Monitor & Modeled            0  \n",
       "184436  Monitor & Modeled            0  \n",
       "184437  Monitor & Modeled            0  \n",
       "184438  Monitor & Modeled            0  \n",
       "184439  Monitor & Modeled            0  "
      ]
     },
     "execution_count": 17,
     "metadata": {},
     "output_type": "execute_result"
    }
   ],
   "source": [
    "df_pm2.head()"
   ]
  },
  {
   "cell_type": "code",
   "execution_count": 24,
   "metadata": {},
   "outputs": [
    {
     "name": "stderr",
     "output_type": "stream",
     "text": [
      "/home/davidhenslovitz/anaconda2/envs/py3/lib/python3.6/site-packages/ipykernel_launcher.py:1: SettingWithCopyWarning: \n",
      "A value is trying to be set on a copy of a slice from a DataFrame.\n",
      "Try using .loc[row_indexer,col_indexer] = value instead\n",
      "\n",
      "See the caveats in the documentation: http://pandas.pydata.org/pandas-docs/stable/indexing.html#indexing-view-versus-copy\n",
      "  \"\"\"Entry point for launching an IPython kernel.\n"
     ]
    }
   ],
   "source": [
    "df_pm2['CountyFips'] = df_pm2['CountyFips'].apply(lambda x: str(x).zfill(5))"
   ]
  },
  {
   "cell_type": "code",
   "execution_count": 29,
   "metadata": {},
   "outputs": [
    {
     "data": {
      "text/html": [
       "<div>\n",
       "<style scoped>\n",
       "    .dataframe tbody tr th:only-of-type {\n",
       "        vertical-align: middle;\n",
       "    }\n",
       "\n",
       "    .dataframe tbody tr th {\n",
       "        vertical-align: top;\n",
       "    }\n",
       "\n",
       "    .dataframe thead th {\n",
       "        text-align: right;\n",
       "    }\n",
       "</style>\n",
       "<table border=\"1\" class=\"dataframe\">\n",
       "  <thead>\n",
       "    <tr style=\"text-align: right;\">\n",
       "      <th></th>\n",
       "      <th>CountyFips</th>\n",
       "      <th>ReportYear</th>\n",
       "      <th>Value</th>\n",
       "      <th>UnitName</th>\n",
       "    </tr>\n",
       "  </thead>\n",
       "  <tbody>\n",
       "    <tr>\n",
       "      <th>184435</th>\n",
       "      <td>01001</td>\n",
       "      <td>2001</td>\n",
       "      <td>13.186807</td>\n",
       "      <td>Micograms per cubic meter</td>\n",
       "    </tr>\n",
       "    <tr>\n",
       "      <th>184436</th>\n",
       "      <td>01001</td>\n",
       "      <td>2002</td>\n",
       "      <td>12.490668</td>\n",
       "      <td>Micograms per cubic meter</td>\n",
       "    </tr>\n",
       "    <tr>\n",
       "      <th>184437</th>\n",
       "      <td>01001</td>\n",
       "      <td>2003</td>\n",
       "      <td>12.869481</td>\n",
       "      <td>Micograms per cubic meter</td>\n",
       "    </tr>\n",
       "    <tr>\n",
       "      <th>184438</th>\n",
       "      <td>01001</td>\n",
       "      <td>2004</td>\n",
       "      <td>13.111945</td>\n",
       "      <td>Micograms per cubic meter</td>\n",
       "    </tr>\n",
       "    <tr>\n",
       "      <th>184439</th>\n",
       "      <td>01001</td>\n",
       "      <td>2005</td>\n",
       "      <td>13.543276</td>\n",
       "      <td>Micograms per cubic meter</td>\n",
       "    </tr>\n",
       "    <tr>\n",
       "      <th>184440</th>\n",
       "      <td>01001</td>\n",
       "      <td>2006</td>\n",
       "      <td>13.638252</td>\n",
       "      <td>Micograms per cubic meter</td>\n",
       "    </tr>\n",
       "    <tr>\n",
       "      <th>184441</th>\n",
       "      <td>01001</td>\n",
       "      <td>2007</td>\n",
       "      <td>14.542888</td>\n",
       "      <td>Micograms per cubic meter</td>\n",
       "    </tr>\n",
       "    <tr>\n",
       "      <th>184442</th>\n",
       "      <td>01001</td>\n",
       "      <td>2008</td>\n",
       "      <td>12.507304</td>\n",
       "      <td>Micograms per cubic meter</td>\n",
       "    </tr>\n",
       "    <tr>\n",
       "      <th>184443</th>\n",
       "      <td>01001</td>\n",
       "      <td>2009</td>\n",
       "      <td>10.279905</td>\n",
       "      <td>Micograms per cubic meter</td>\n",
       "    </tr>\n",
       "    <tr>\n",
       "      <th>184444</th>\n",
       "      <td>01001</td>\n",
       "      <td>2010</td>\n",
       "      <td>11.093826</td>\n",
       "      <td>Micograms per cubic meter</td>\n",
       "    </tr>\n",
       "    <tr>\n",
       "      <th>184445</th>\n",
       "      <td>01001</td>\n",
       "      <td>2011</td>\n",
       "      <td>11.106039</td>\n",
       "      <td>Micograms per cubic meter</td>\n",
       "    </tr>\n",
       "    <tr>\n",
       "      <th>184446</th>\n",
       "      <td>01003</td>\n",
       "      <td>2001</td>\n",
       "      <td>11.803492</td>\n",
       "      <td>Micograms per cubic meter</td>\n",
       "    </tr>\n",
       "    <tr>\n",
       "      <th>184447</th>\n",
       "      <td>01003</td>\n",
       "      <td>2002</td>\n",
       "      <td>10.751602</td>\n",
       "      <td>Micograms per cubic meter</td>\n",
       "    </tr>\n",
       "    <tr>\n",
       "      <th>184448</th>\n",
       "      <td>01003</td>\n",
       "      <td>2003</td>\n",
       "      <td>12.124621</td>\n",
       "      <td>Micograms per cubic meter</td>\n",
       "    </tr>\n",
       "    <tr>\n",
       "      <th>184449</th>\n",
       "      <td>01003</td>\n",
       "      <td>2004</td>\n",
       "      <td>11.730904</td>\n",
       "      <td>Micograms per cubic meter</td>\n",
       "    </tr>\n",
       "    <tr>\n",
       "      <th>184450</th>\n",
       "      <td>01003</td>\n",
       "      <td>2005</td>\n",
       "      <td>12.540849</td>\n",
       "      <td>Micograms per cubic meter</td>\n",
       "    </tr>\n",
       "    <tr>\n",
       "      <th>184451</th>\n",
       "      <td>01003</td>\n",
       "      <td>2006</td>\n",
       "      <td>11.487688</td>\n",
       "      <td>Micograms per cubic meter</td>\n",
       "    </tr>\n",
       "    <tr>\n",
       "      <th>184452</th>\n",
       "      <td>01003</td>\n",
       "      <td>2007</td>\n",
       "      <td>11.658519</td>\n",
       "      <td>Micograms per cubic meter</td>\n",
       "    </tr>\n",
       "    <tr>\n",
       "      <th>184453</th>\n",
       "      <td>01003</td>\n",
       "      <td>2008</td>\n",
       "      <td>10.144779</td>\n",
       "      <td>Micograms per cubic meter</td>\n",
       "    </tr>\n",
       "    <tr>\n",
       "      <th>184454</th>\n",
       "      <td>01003</td>\n",
       "      <td>2009</td>\n",
       "      <td>9.144909</td>\n",
       "      <td>Micograms per cubic meter</td>\n",
       "    </tr>\n",
       "  </tbody>\n",
       "</table>\n",
       "</div>"
      ],
      "text/plain": [
       "       CountyFips  ReportYear      Value                   UnitName\n",
       "184435      01001        2001  13.186807  Micograms per cubic meter\n",
       "184436      01001        2002  12.490668  Micograms per cubic meter\n",
       "184437      01001        2003  12.869481  Micograms per cubic meter\n",
       "184438      01001        2004  13.111945  Micograms per cubic meter\n",
       "184439      01001        2005  13.543276  Micograms per cubic meter\n",
       "184440      01001        2006  13.638252  Micograms per cubic meter\n",
       "184441      01001        2007  14.542888  Micograms per cubic meter\n",
       "184442      01001        2008  12.507304  Micograms per cubic meter\n",
       "184443      01001        2009  10.279905  Micograms per cubic meter\n",
       "184444      01001        2010  11.093826  Micograms per cubic meter\n",
       "184445      01001        2011  11.106039  Micograms per cubic meter\n",
       "184446      01003        2001  11.803492  Micograms per cubic meter\n",
       "184447      01003        2002  10.751602  Micograms per cubic meter\n",
       "184448      01003        2003  12.124621  Micograms per cubic meter\n",
       "184449      01003        2004  11.730904  Micograms per cubic meter\n",
       "184450      01003        2005  12.540849  Micograms per cubic meter\n",
       "184451      01003        2006  11.487688  Micograms per cubic meter\n",
       "184452      01003        2007  11.658519  Micograms per cubic meter\n",
       "184453      01003        2008  10.144779  Micograms per cubic meter\n",
       "184454      01003        2009   9.144909  Micograms per cubic meter"
      ]
     },
     "execution_count": 29,
     "metadata": {},
     "output_type": "execute_result"
    }
   ],
   "source": [
    "df_pm2.head(20)"
   ]
  },
  {
   "cell_type": "code",
   "execution_count": 27,
   "metadata": {
    "collapsed": true
   },
   "outputs": [],
   "source": [
    "df_pm2 = df_pm2[['CountyFips', 'ReportYear','Value','UnitName']]"
   ]
  },
  {
   "cell_type": "code",
   "execution_count": 28,
   "metadata": {},
   "outputs": [
    {
     "data": {
      "text/html": [
       "<div>\n",
       "<style scoped>\n",
       "    .dataframe tbody tr th:only-of-type {\n",
       "        vertical-align: middle;\n",
       "    }\n",
       "\n",
       "    .dataframe tbody tr th {\n",
       "        vertical-align: top;\n",
       "    }\n",
       "\n",
       "    .dataframe thead th {\n",
       "        text-align: right;\n",
       "    }\n",
       "</style>\n",
       "<table border=\"1\" class=\"dataframe\">\n",
       "  <thead>\n",
       "    <tr style=\"text-align: right;\">\n",
       "      <th></th>\n",
       "      <th>CountyFips</th>\n",
       "      <th>ReportYear</th>\n",
       "      <th>Value</th>\n",
       "      <th>UnitName</th>\n",
       "    </tr>\n",
       "  </thead>\n",
       "  <tbody>\n",
       "    <tr>\n",
       "      <th>184435</th>\n",
       "      <td>01001</td>\n",
       "      <td>2001</td>\n",
       "      <td>13.186807</td>\n",
       "      <td>Micograms per cubic meter</td>\n",
       "    </tr>\n",
       "    <tr>\n",
       "      <th>184436</th>\n",
       "      <td>01001</td>\n",
       "      <td>2002</td>\n",
       "      <td>12.490668</td>\n",
       "      <td>Micograms per cubic meter</td>\n",
       "    </tr>\n",
       "    <tr>\n",
       "      <th>184437</th>\n",
       "      <td>01001</td>\n",
       "      <td>2003</td>\n",
       "      <td>12.869481</td>\n",
       "      <td>Micograms per cubic meter</td>\n",
       "    </tr>\n",
       "    <tr>\n",
       "      <th>184438</th>\n",
       "      <td>01001</td>\n",
       "      <td>2004</td>\n",
       "      <td>13.111945</td>\n",
       "      <td>Micograms per cubic meter</td>\n",
       "    </tr>\n",
       "    <tr>\n",
       "      <th>184439</th>\n",
       "      <td>01001</td>\n",
       "      <td>2005</td>\n",
       "      <td>13.543276</td>\n",
       "      <td>Micograms per cubic meter</td>\n",
       "    </tr>\n",
       "  </tbody>\n",
       "</table>\n",
       "</div>"
      ],
      "text/plain": [
       "       CountyFips  ReportYear      Value                   UnitName\n",
       "184435      01001        2001  13.186807  Micograms per cubic meter\n",
       "184436      01001        2002  12.490668  Micograms per cubic meter\n",
       "184437      01001        2003  12.869481  Micograms per cubic meter\n",
       "184438      01001        2004  13.111945  Micograms per cubic meter\n",
       "184439      01001        2005  13.543276  Micograms per cubic meter"
      ]
     },
     "execution_count": 28,
     "metadata": {},
     "output_type": "execute_result"
    }
   ],
   "source": [
    "df_pm2.head()"
   ]
  },
  {
   "cell_type": "code",
   "execution_count": null,
   "metadata": {
    "collapsed": true
   },
   "outputs": [],
   "source": []
  },
  {
   "cell_type": "code",
   "execution_count": null,
   "metadata": {
    "collapsed": true
   },
   "outputs": [],
   "source": []
  },
  {
   "cell_type": "code",
   "execution_count": null,
   "metadata": {
    "collapsed": true
   },
   "outputs": [],
   "source": []
  },
  {
   "cell_type": "code",
   "execution_count": null,
   "metadata": {
    "collapsed": true
   },
   "outputs": [],
   "source": []
  },
  {
   "cell_type": "code",
   "execution_count": null,
   "metadata": {
    "collapsed": true
   },
   "outputs": [],
   "source": []
  },
  {
   "cell_type": "code",
   "execution_count": null,
   "metadata": {
    "collapsed": true
   },
   "outputs": [],
   "source": []
  },
  {
   "cell_type": "code",
   "execution_count": null,
   "metadata": {
    "collapsed": true
   },
   "outputs": [],
   "source": []
  },
  {
   "cell_type": "code",
   "execution_count": null,
   "metadata": {
    "collapsed": true
   },
   "outputs": [],
   "source": []
  },
  {
   "cell_type": "code",
   "execution_count": null,
   "metadata": {
    "collapsed": true
   },
   "outputs": [],
   "source": []
  },
  {
   "cell_type": "code",
   "execution_count": null,
   "metadata": {
    "collapsed": true
   },
   "outputs": [],
   "source": []
  },
  {
   "cell_type": "code",
   "execution_count": null,
   "metadata": {
    "collapsed": true
   },
   "outputs": [],
   "source": []
  },
  {
   "cell_type": "code",
   "execution_count": null,
   "metadata": {
    "collapsed": true
   },
   "outputs": [],
   "source": []
  },
  {
   "cell_type": "code",
   "execution_count": 128,
   "metadata": {
    "collapsed": true
   },
   "outputs": [],
   "source": [
    "df_ozone = df_ozone.groupby(['CountyName'])['Value'].mean().sort_values(ascending=False)"
   ]
  },
  {
   "cell_type": "code",
   "execution_count": 129,
   "metadata": {},
   "outputs": [
    {
     "data": {
      "text/plain": [
       "CountyName\n",
       "San Bernardino    114.090909\n",
       "Riverside         107.636364\n",
       "Kern              105.090909\n",
       "Tulare            104.545455\n",
       "Los Angeles        86.272727\n",
       "Fresno             78.363636\n",
       "El Dorado          42.636364\n",
       "Merced             39.909091\n",
       "Sacramento         39.272727\n",
       "Placer             36.000000\n",
       "Ventura            35.363636\n",
       "Mariposa           33.454545\n",
       "Tarrant            31.181818\n",
       "San Diego          28.090909\n",
       "Maricopa           28.000000\n",
       "Queen Anne's       25.636364\n",
       "Harford            24.818182\n",
       "Kings              24.272727\n",
       "Denton             23.181818\n",
       "Imperial           23.090909\n",
       "Name: Value, dtype: float64"
      ]
     },
     "execution_count": 129,
     "metadata": {},
     "output_type": "execute_result"
    }
   ],
   "source": [
    "df_ozone.head(20)"
   ]
  },
  {
   "cell_type": "code",
   "execution_count": 130,
   "metadata": {
    "collapsed": true
   },
   "outputs": [],
   "source": [
    "df_ozone_p = df_ozone_p.groupby(['CountyName'])['Value'].mean().sort_values(ascending=False)"
   ]
  },
  {
   "cell_type": "code",
   "execution_count": 132,
   "metadata": {},
   "outputs": [
    {
     "data": {
      "text/plain": [
       "CountyName\n",
       "Los Angeles             8.418584e+08\n",
       "San Bernardino          2.209387e+08\n",
       "Riverside               2.102663e+08\n",
       "Maricopa                9.768104e+07\n",
       "San Diego               8.311229e+07\n",
       "Kern                    8.004823e+07\n",
       "Harris                  7.549499e+07\n",
       "Fresno                  6.799177e+07\n",
       "Sacramento              5.336680e+07\n",
       "Tarrant                 5.107156e+07\n",
       "Tulare                  4.277399e+07\n",
       "Ventura                 2.802258e+07\n",
       "Philadelphia            2.784962e+07\n",
       "Cook                    2.197379e+07\n",
       "Allegheny               2.138448e+07\n",
       "Fairfax                 2.087182e+07\n",
       "Bexar                   1.914615e+07\n",
       "Prince George's         1.606620e+07\n",
       "Queens                  1.507524e+07\n",
       "Kings                   1.492384e+07\n",
       "Cuyahoga                1.409716e+07\n",
       "Baltimore               1.371584e+07\n",
       "New York                1.298147e+07\n",
       "Denton                  1.297932e+07\n",
       "New Haven               1.228704e+07\n",
       "Nassau                  1.162249e+07\n",
       "Collin                  1.125447e+07\n",
       "Ocean                   1.116678e+07\n",
       "Placer                  1.111228e+07\n",
       "Bergen                  1.104480e+07\n",
       "Wake                    1.092970e+07\n",
       "Salt Lake               1.089442e+07\n",
       "Stanislaus              1.075177e+07\n",
       "Burlington              1.014112e+07\n",
       "Westchester             1.003519e+07\n",
       "Gwinnett                9.986351e+06\n",
       "Fort Bend               9.946434e+06\n",
       "Bucks                   9.778397e+06\n",
       "Macomb                  9.645687e+06\n",
       "Santa Clara             9.612825e+06\n",
       "Dallas                  9.502320e+06\n",
       "Merced                  9.397528e+06\n",
       "Oakland                 9.282241e+06\n",
       "Anne Arundel            9.206832e+06\n",
       "Mecklenburg             9.017897e+06\n",
       "Cobb                    9.017731e+06\n",
       "District of Columbia    8.898809e+06\n",
       "Suffolk                 8.855231e+06\n",
       "Monmouth                8.709104e+06\n",
       "New Castle              8.430107e+06\n",
       "Name: Value, dtype: float64"
      ]
     },
     "execution_count": 132,
     "metadata": {},
     "output_type": "execute_result"
    }
   ],
   "source": [
    "df_ozone_p.head(50)"
   ]
  },
  {
   "cell_type": "code",
   "execution_count": 138,
   "metadata": {},
   "outputs": [
    {
     "data": {
      "text/plain": [
       "[<matplotlib.lines.Line2D at 0x7fabf3f2f358>]"
      ]
     },
     "execution_count": 138,
     "metadata": {},
     "output_type": "execute_result"
    },
    {
     "data": {
      "image/png": "[encoded data removed]",
      "text/plain": [
       "<matplotlib.figure.Figure at 0x7fabf3f7b160>"
      ]
     },
     "metadata": {},
     "output_type": "display_data"
    }
   ],
   "source": [
    "df_years = df_air[(df_air.MeasureName=='Number of person-days with maximum 8-hour average ozone concentration over the National Ambient Air Quality Standard (monitor and modeled data)')&(df_air.CountyName=='Los Angeles')]\n",
    "plt.plot(df_years.ReportYear, df_years.Value)"
   ]
  },
  {
   "cell_type": "code",
   "execution_count": null,
   "metadata": {
    "collapsed": true
   },
   "outputs": [],
   "source": []
  }
 ],
 "metadata": {
  "kernelspec": {
   "display_name": "Python 3",
   "language": "python",
   "name": "python3"
  },
  "language_info": {
   "codemirror_mode": {
    "name": "ipython",
    "version": 3
   },
   "file_extension": ".py",
   "mimetype": "text/x-python",
   "name": "python",
   "nbconvert_exporter": "python",
   "pygments_lexer": "ipython3",
   "version": "3.6.3"
  }
 },
 "nbformat": 4,
 "nbformat_minor": 2
}
